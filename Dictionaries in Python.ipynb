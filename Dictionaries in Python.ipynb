{
 "cells": [
  {
   "cell_type": "markdown",
   "metadata": {},
   "source": [
    "# Dictionaries \n",
    "Are a python datatype like lists but here the items are not associated with any offsets. Insted offsets we use keys to assoicate the item values. "
   ]
  },
  {
   "cell_type": "markdown",
   "metadata": {},
   "source": [
    "## Creating Dictionaries with {}"
   ]
  },
  {
   "cell_type": "code",
   "execution_count": 2,
   "metadata": {},
   "outputs": [
    {
     "name": "stdout",
     "output_type": "stream",
     "text": [
      "{}\n",
      "{'Deepayan': 'Nandy', 'Lipi': 'Kumari', 'Chandan': 'Gope', 'Mrinal': 'Singh'}\n"
     ]
    }
   ],
   "source": [
    "empty_dict={}\n",
    "full_name= {\"Deepayan\":\"Nandy\",\"Lipi\":\"Kumari\",\"Chandan\":\"Gope\",\"Mrinal\":\"Singh\"}\n",
    "\n",
    "print(empty_dict)\n",
    "print(full_name)"
   ]
  },
  {
   "cell_type": "markdown",
   "metadata": {},
   "source": [
    "## converting lists into Dictionary using dict()"
   ]
  },
  {
   "cell_type": "code",
   "execution_count": 4,
   "metadata": {},
   "outputs": [
    {
     "name": "stdout",
     "output_type": "stream",
     "text": [
      "{'a': 'b', 'c': 'd', 'e': 'f'}\n"
     ]
    }
   ],
   "source": [
    "list1=[[\"a\",\"b\"],[\"c\",\"d\"],[\"e\",\"f\"]]\n",
    "list1_dict= dict(list1)\n",
    "print(list1_dict)"
   ]
  },
  {
   "cell_type": "markdown",
   "metadata": {},
   "source": [
    "## Add or change item by [key]"
   ]
  },
  {
   "cell_type": "code",
   "execution_count": 7,
   "metadata": {},
   "outputs": [
    {
     "name": "stdout",
     "output_type": "stream",
     "text": [
      "{'Deepayan': 'Nandy', 'Lipi': 'Kumari', 'Chandan': 'Gope', 'Mrinal': 'Singh', 'Akshay': 'Jana'}\n",
      "{'Deepayan': 'Nandy', 'Lipi': 'Kumari', 'Chandan': 'Gope', 'Mrinal': 'Singh', 'Akshay': 'Jana'}\n",
      "{'Deepayan': 'Nandy', 'Lipi': 'Nandy', 'Chandan': 'Gope', 'Mrinal': 'Singh', 'Akshay': 'Jana'}\n"
     ]
    }
   ],
   "source": [
    "print(full_name)\n",
    "full_name[\"Akshay\"]=\"Jana\"\n",
    "print(full_name)\n",
    "\n",
    "full_name[\"Lipi\"]=\"Nandy\"\n",
    "print(full_name)"
   ]
  },
  {
   "cell_type": "markdown",
   "metadata": {},
   "source": [
    "## Combine Dictionaries using update()"
   ]
  },
  {
   "cell_type": "code",
   "execution_count": 8,
   "metadata": {},
   "outputs": [
    {
     "name": "stdout",
     "output_type": "stream",
     "text": [
      "{'Deepayan': 'Nandy', 'Lipi': 'Nandy', 'Chandan': 'Gope', 'Mrinal': 'Singh', 'Akshay': 'Jana'}\n",
      "{'Deepayan': 'Nandy', 'Lipi': 'Nandy', 'Chandan': 'Gope', 'Mrinal': 'Singh', 'Akshay': 'Jana', 'Aditi': 'Mondal', 'Dipak': 'Gope'}\n"
     ]
    }
   ],
   "source": [
    "print(full_name)\n",
    "others={\"Aditi\":\"Mondal\",\"Dipak\":\"Gope\"}\n",
    "full_name.update(others)\n",
    "print(full_name)"
   ]
  },
  {
   "cell_type": "markdown",
   "metadata": {},
   "source": [
    "## Deleate an item by there key with del "
   ]
  },
  {
   "cell_type": "code",
   "execution_count": 10,
   "metadata": {},
   "outputs": [
    {
     "name": "stdout",
     "output_type": "stream",
     "text": [
      "{'Deepayan': 'Nandy', 'Lipi': 'Nandy', 'Chandan': 'Gope', 'Mrinal': 'Singh', 'Akshay': 'Jana', 'Aditi': 'Mondal', 'Dipak': 'Gope'}\n",
      "{'Deepayan': 'Nandy', 'Lipi': 'Nandy', 'Chandan': 'Gope', 'Mrinal': 'Singh', 'Akshay': 'Jana', 'Dipak': 'Gope'}\n"
     ]
    }
   ],
   "source": [
    "print(full_name)\n",
    "del full_name[\"Aditi\"]\n",
    "print(full_name)"
   ]
  },
  {
   "cell_type": "markdown",
   "metadata": {},
   "source": [
    "## Get the item by [key]"
   ]
  },
  {
   "cell_type": "code",
   "execution_count": 14,
   "metadata": {},
   "outputs": [
    {
     "name": "stdout",
     "output_type": "stream",
     "text": [
      "Nandy\n",
      "Gope\n"
     ]
    }
   ],
   "source": [
    "print(full_name[\"Deepayan\"])\n",
    "print(full_name[\"Chandan\"])"
   ]
  },
  {
   "cell_type": "markdown",
   "metadata": {},
   "source": [
    "## Get all the keys using keys()\n"
   ]
  },
  {
   "cell_type": "code",
   "execution_count": 15,
   "metadata": {},
   "outputs": [
    {
     "name": "stdout",
     "output_type": "stream",
     "text": [
      "dict_keys(['Deepayan', 'Lipi', 'Chandan', 'Mrinal', 'Akshay', 'Dipak'])\n"
     ]
    }
   ],
   "source": [
    "print(full_name.keys())"
   ]
  },
  {
   "cell_type": "markdown",
   "metadata": {},
   "source": [
    "## Get all the values using values()"
   ]
  },
  {
   "cell_type": "code",
   "execution_count": 16,
   "metadata": {},
   "outputs": [
    {
     "name": "stdout",
     "output_type": "stream",
     "text": [
      "dict_values(['Nandy', 'Nandy', 'Gope', 'Singh', 'Jana', 'Gope'])\n"
     ]
    }
   ],
   "source": [
    "print(full_name.values())"
   ]
  },
  {
   "cell_type": "markdown",
   "metadata": {},
   "source": [
    "## Testing for a Key by using \"in\""
   ]
  },
  {
   "cell_type": "code",
   "execution_count": 18,
   "metadata": {},
   "outputs": [
    {
     "data": {
      "text/plain": [
       "True"
      ]
     },
     "execution_count": 18,
     "metadata": {},
     "output_type": "execute_result"
    }
   ],
   "source": [
    "\"Mrinal\" in full_name"
   ]
  },
  {
   "cell_type": "code",
   "execution_count": null,
   "metadata": {},
   "outputs": [],
   "source": []
  }
 ],
 "metadata": {
  "kernelspec": {
   "display_name": "Python 3",
   "language": "python",
   "name": "python3"
  },
  "language_info": {
   "codemirror_mode": {
    "name": "ipython",
    "version": 3
   },
   "file_extension": ".py",
   "mimetype": "text/x-python",
   "name": "python",
   "nbconvert_exporter": "python",
   "pygments_lexer": "ipython3",
   "version": "3.8.3"
  }
 },
 "nbformat": 4,
 "nbformat_minor": 4
}
