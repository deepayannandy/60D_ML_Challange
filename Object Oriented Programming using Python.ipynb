{
 "cells": [
  {
   "cell_type": "markdown",
   "metadata": {},
   "source": [
    "# Classes and Objects in PYTHON"
   ]
  },
  {
   "cell_type": "markdown",
   "metadata": {},
   "source": [
    "## How to define a class and make an object if that class"
   ]
  },
  {
   "cell_type": "code",
   "execution_count": 5,
   "metadata": {},
   "outputs": [
    {
     "name": "stdout",
     "output_type": "stream",
     "text": [
      "Intel Processor, 8Gb RAM, 1TB HDD\n",
      "Intel Processor, 8Gb RAM, 1TB HDD\n"
     ]
    }
   ],
   "source": [
    "class computer:\n",
    "    def configuration(self):\n",
    "        print(\"Intel Processor, 8Gb RAM, 1TB HDD\")\n",
    "        \n",
    "com1=computer()\n",
    "com2=computer()\n",
    "com1.configuration()\n",
    "com2.configuration()"
   ]
  },
  {
   "cell_type": "markdown",
   "metadata": {},
   "source": [
    "## How to use __init__() method for initialize instance variables"
   ]
  },
  {
   "cell_type": "code",
   "execution_count": 7,
   "metadata": {},
   "outputs": [
    {
     "name": "stdout",
     "output_type": "stream",
     "text": [
      "i5 Processor 8 GB of RAM and 124 GB of HDD\n",
      "Rysen 4 Processor 16 GB of RAM and 1024 GB of HDD\n"
     ]
    }
   ],
   "source": [
    "class computer:\n",
    "    def __init__(self,cpu,ram,storage):\n",
    "        self.cpu=cpu\n",
    "        self.ram=ram\n",
    "        self.storage=storage\n",
    "    def configuration(self):\n",
    "        print(self.cpu,\"Processor\",self.ram,\"GB of RAM and\",self.storage,\"GB of HDD\")\n",
    "        \n",
    "com1=computer(\"i5\",8,124)\n",
    "com2=computer(\"Rysen 4\",16,1024)\n",
    "com1.configuration()\n",
    "com2.configuration()"
   ]
  },
  {
   "cell_type": "markdown",
   "metadata": {},
   "source": [
    "## How to initialize class variable. class variable vs instance variables"
   ]
  },
  {
   "cell_type": "code",
   "execution_count": 15,
   "metadata": {},
   "outputs": [
    {
     "name": "stdout",
     "output_type": "stream",
     "text": [
      "BMW have v12 engine 4 weels 12 KMPL\n",
      "Mahindra have MHaq engine 4 weels 15 KMPL\n"
     ]
    }
   ],
   "source": [
    "class car:\n",
    "    wheels= 4   # class variable\n",
    "    def __init__(self,engine,milage,company_name):\n",
    "        self.engine=engine  # instance variable\n",
    "        self.milage=milage  # instance variable\n",
    "        self.company_name=company_name   # instance variable\n",
    "    \n",
    "    def details(self):\n",
    "        print(self.company_name,\"have\",self.engine,\"engine\",self.wheels,\"weels\",self.milage,\"KMPL\")\n",
    "\n",
    "car1= car(\"v12\",12,\"BMW\")\n",
    "car2= car(\"MHaq\",15,\"Mahindra\")\n",
    "\n",
    "car1.details()\n",
    "car2.details()\n"
   ]
  },
  {
   "cell_type": "markdown",
   "metadata": {},
   "source": [
    "## How to override a method "
   ]
  },
  {
   "cell_type": "code",
   "execution_count": 25,
   "metadata": {},
   "outputs": [
    {
     "name": "stdout",
     "output_type": "stream",
     "text": [
      "I am a car class Eon\n",
      "I am your dream car! Q3\n"
     ]
    }
   ],
   "source": [
    "class car:\n",
    "    def __init__(self,name):\n",
    "        self.name=name\n",
    "    def explain(self):\n",
    "        print(\"I am a car class\",self.name)\n",
    "\n",
    "class bmw(car):\n",
    "    def explain(self):\n",
    "        print(\"I am your dream car!\",self.name)\n",
    "        \n",
    "car1= car(\"Eon\")\n",
    "bmw1= bmw(\"Q3\")\n",
    "\n",
    "car1.explain()\n",
    "bmw1.explain()"
   ]
  },
  {
   "cell_type": "markdown",
   "metadata": {},
   "source": [
    "## Getter and setter methods"
   ]
  },
  {
   "cell_type": "code",
   "execution_count": 29,
   "metadata": {},
   "outputs": [
    {
     "name": "stdout",
     "output_type": "stream",
     "text": [
      "Student Name is: Deepayan Nandy\n",
      "Student roll is: 1\n",
      "New Student details:\n",
      "Student Name is: Deepayan Nandy\n",
      "Student roll is: 2\n"
     ]
    }
   ],
   "source": [
    "class students:\n",
    "    def __init__(self,name,roll):\n",
    "        self.name=name\n",
    "        self.roll=roll\n",
    "    def get_details(self):               #getter method\n",
    "        print(\"Student Name is:\",self.name)\n",
    "        print(\"Student roll is:\",self.roll)\n",
    "    def set_roll(self,roll):             #setter method\n",
    "        self.roll=roll\n",
    "        print(\"New Student details:\")\n",
    "        self.get_details()\n",
    "        \n",
    "student1= students(\"Deepayan Nandy\",1)\n",
    "student1.get_details()\n",
    "student1.set_roll(2)"
   ]
  },
  {
   "cell_type": "markdown",
   "metadata": {},
   "source": [
    "## Name mingling for privecy\n",
    "This is a naming convention for attributes so that the attributs are not visible outside of there class definition"
   ]
  },
  {
   "cell_type": "code",
   "execution_count": 47,
   "metadata": {},
   "outputs": [
    {
     "name": "stdout",
     "output_type": "stream",
     "text": [
      "Inside getter name: Deepayan\n",
      "Inside getter name: 17\n",
      "Inside setter:  deep\n",
      "Inside setter:  11\n",
      "Inside getter name: deep\n",
      "Inside getter name: 11\n"
     ]
    }
   ],
   "source": [
    "class student:\n",
    "    def __init__(self,input_name,input_roll):\n",
    "        self.__name=input_name\n",
    "        self.__roll=input_roll\n",
    "        \n",
    "    @property\n",
    "    def name(self):\n",
    "        print(\"Inside getter name:\",self.__name)\n",
    "    @property\n",
    "    def roll(self):\n",
    "        print(\"Inside getter name:\",self.__roll)\n",
    "    @name.setter\n",
    "    def name(self, input_name):\n",
    "        self.__name=input_name\n",
    "        print(\"Inside setter: \",self.__name)\n",
    "    @roll.setter\n",
    "    def roll(self, input_roll):\n",
    "        self.__roll=input_roll\n",
    "        print(\"Inside setter: \",self.__roll)\n",
    "        \n",
    "student1=student(\"Deepayan\",17)\n",
    "student1.name\n",
    "student1.roll\n",
    "student1.name=\"deep\"\n",
    "student1.roll=11\n",
    "student1.name\n",
    "student1.roll"
   ]
  },
  {
   "cell_type": "markdown",
   "metadata": {},
   "source": [
    "## Different type of Methods\n",
    "Methods are of two types. Class method and instance method. Class methods are defined using \"@classmethod\" decorator"
   ]
  },
  {
   "cell_type": "code",
   "execution_count": 61,
   "metadata": {},
   "outputs": [
    {
     "name": "stdout",
     "output_type": "stream",
     "text": [
      "Deep\n",
      "1\n",
      "Lipi\n",
      "2\n",
      "Liyan\n",
      "3\n",
      "Total Number of users are: 3\n"
     ]
    }
   ],
   "source": [
    "class users():\n",
    "    count= 0\n",
    "    def __init__(self,input_name):\n",
    "        self.__name=input_name\n",
    "        users.count+=1\n",
    "        self.__user_id=users.count\n",
    "    @property\n",
    "    def name(self):\n",
    "        print(self.__name)\n",
    "    @property\n",
    "    def user_id(self):\n",
    "        print(self.__user_id)\n",
    "    @name.setter\n",
    "    def name(self, input_name):\n",
    "        self.__name=input_name\n",
    "        print(self.__name)\n",
    "    @classmethod\n",
    "    def total_user(cls):\n",
    "        print(\"Total Number of users are:\",cls.count)\n",
    "    \n",
    "\n",
    "user1=users(\"Deep\")\n",
    "user1.name\n",
    "user1.user_id\n",
    "\n",
    "user2=users(\"Lipi\")\n",
    "user2.name\n",
    "user2.user_id\n",
    "\n",
    "user3=users(\"Liyan\")\n",
    "user3.name\n",
    "user3.user_id\n",
    "\n",
    "users.total_user()"
   ]
  },
  {
   "cell_type": "markdown",
   "metadata": {},
   "source": [
    "## Some Special Methods    /  Operater overloading"
   ]
  },
  {
   "cell_type": "code",
   "execution_count": 3,
   "metadata": {},
   "outputs": [
    {
     "name": "stdout",
     "output_type": "stream",
     "text": [
      "False\n"
     ]
    }
   ],
   "source": [
    "# using normal methods \n",
    "class words():\n",
    "    def __init__(self,word):\n",
    "        self.word= word\n",
    "        \n",
    "    def equals(self,other_word):\n",
    "        return self.word.lower()==other_word.word.lower()\n",
    "\n",
    "first=words(\"hello\")\n",
    "secound=words(\"hELLo\")\n",
    "print(first.equals(secound))"
   ]
  },
  {
   "cell_type": "code",
   "execution_count": 15,
   "metadata": {},
   "outputs": [
    {
     "name": "stdout",
     "output_type": "stream",
     "text": [
      "True\n"
     ]
    }
   ],
   "source": [
    "# using special methods\n",
    "class words():\n",
    "    def __init__(self,word):\n",
    "        self.word= word\n",
    "        \n",
    "    def __eq__(self,other_word):\n",
    "        return self.word.lower()==other_word.word.lower()\n",
    "\n",
    "first=words(\"hello\")\n",
    "secound=words(\"hELLo\")\n",
    "print(first==secound)\n"
   ]
  },
  {
   "cell_type": "code",
   "execution_count": 18,
   "metadata": {},
   "outputs": [
    {
     "name": "stdout",
     "output_type": "stream",
     "text": [
      "16\n"
     ]
    }
   ],
   "source": [
    "class numbers:\n",
    "    def __init__(self, number):\n",
    "        self.num=number\n",
    "    def __add__(self, other_number):\n",
    "        return self.num+other_number.num\n",
    "    \n",
    "a=numbers(6)\n",
    "b=numbers(10)\n",
    "c=a+b\n",
    "print(c)\n",
    "        "
   ]
  },
  {
   "cell_type": "markdown",
   "metadata": {},
   "source": [
    "## class inside a class"
   ]
  },
  {
   "cell_type": "code",
   "execution_count": 10,
   "metadata": {},
   "outputs": [
    {
     "name": "stdout",
     "output_type": "stream",
     "text": [
      "deepayan 1\n",
      "Apple i5 8\n"
     ]
    }
   ],
   "source": [
    "class student:                             # outer class\n",
    "    def __init__(self,name,roll,lap):\n",
    "        self.name=name\n",
    "        self.roll=roll\n",
    "        self.lap=lap\n",
    "        \n",
    "    def show(self):\n",
    "        print(self.name,self.roll)\n",
    "        self.lap.show()\n",
    "        \n",
    "    class laptop:                          # inner class\n",
    "        def __init__(self,brand,cpu,ram):\n",
    "            self.brand = brand\n",
    "            self.cpu = cpu\n",
    "            self.ram = ram\n",
    "        def show(self):\n",
    "            print( self.brand, self.cpu, self.ram)\n",
    "\n",
    "lap1=student.laptop(\"Apple\",\"i5\",8)\n",
    "student1=student(\"deepayan\",1,lap1)\n",
    "student1.show()"
   ]
  },
  {
   "cell_type": "markdown",
   "metadata": {},
   "source": [
    "## Inharitance"
   ]
  },
  {
   "cell_type": "code",
   "execution_count": 12,
   "metadata": {},
   "outputs": [
    {
     "name": "stdout",
     "output_type": "stream",
     "text": [
      "I am Function 1\n",
      "I am Function 2\n",
      "I am Function 1\n",
      "I am Function 2\n",
      "I am Function 3\n",
      "I am Function 4\n"
     ]
    }
   ],
   "source": [
    "## Single level inharitance\n",
    "class A:\n",
    "    def function1(self):\n",
    "        print(\"I am Function 1\")\n",
    "    def function2(self):\n",
    "        print(\"I am Function 2\")\n",
    "class B(A):\n",
    "    def function3(self):\n",
    "        print(\"I am Function 3\")\n",
    "    def function4(self):\n",
    "        print(\"I am Function 4\")\n",
    "        \n",
    "a=A()\n",
    "a.function1()\n",
    "a.function2()\n",
    "\n",
    "b=B()\n",
    "b.function1()\n",
    "b.function2()\n",
    "b.function3()\n",
    "b.function4()"
   ]
  },
  {
   "cell_type": "code",
   "execution_count": 14,
   "metadata": {},
   "outputs": [
    {
     "name": "stdout",
     "output_type": "stream",
     "text": [
      "I am Function 1\n",
      "I am Function 2\n",
      "I am Function 3\n",
      "I am Function 4\n",
      "I am Function 1\n",
      "I am Function 2\n",
      "I am Function 3\n",
      "I am Function 4\n",
      "I am Function 5\n"
     ]
    }
   ],
   "source": [
    "## Multiple inharitance\n",
    "\n",
    "class A:\n",
    "    def function1(self):\n",
    "        print(\"I am Function 1\")\n",
    "    def function2(self):\n",
    "        print(\"I am Function 2\")\n",
    "class B:\n",
    "    def function3(self):\n",
    "        print(\"I am Function 3\")\n",
    "    def function4(self):\n",
    "        print(\"I am Function 4\")\n",
    "        \n",
    "class C(A,B):\n",
    "    def function5(self):\n",
    "        print(\"I am Function 5\")\n",
    "        \n",
    "a=A()\n",
    "a.function1()\n",
    "a.function2()\n",
    "\n",
    "b=B()\n",
    "b.function3()\n",
    "b.function4()\n",
    "\n",
    "c=C()\n",
    "c.function1()\n",
    "c.function2()\n",
    "c.function3()\n",
    "c.function4()\n",
    "c.function5()"
   ]
  },
  {
   "cell_type": "markdown",
   "metadata": {},
   "source": [
    "## Duck Typing"
   ]
  },
  {
   "cell_type": "code",
   "execution_count": null,
   "metadata": {},
   "outputs": [],
   "source": []
  }
 ],
 "metadata": {
  "kernelspec": {
   "display_name": "Python 3",
   "language": "python",
   "name": "python3"
  },
  "language_info": {
   "codemirror_mode": {
    "name": "ipython",
    "version": 3
   },
   "file_extension": ".py",
   "mimetype": "text/x-python",
   "name": "python",
   "nbconvert_exporter": "python",
   "pygments_lexer": "ipython3",
   "version": "3.8.3"
  }
 },
 "nbformat": 4,
 "nbformat_minor": 4
}
