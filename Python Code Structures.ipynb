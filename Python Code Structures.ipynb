{
 "cells": [
  {
   "cell_type": "code",
   "execution_count": 1,
   "metadata": {},
   "outputs": [],
   "source": [
    "#Comments ate the most useful feature of any programming language \n",
    "#here in python the comments are started by '#' simbal\n",
    "#the lines which are started with # simbal is overlooked by the interpreter."
   ]
  },
  {
   "cell_type": "markdown",
   "metadata": {},
   "source": [
    "## if, elif & else"
   ]
  },
  {
   "cell_type": "code",
   "execution_count": 54,
   "metadata": {},
   "outputs": [
    {
     "name": "stdout",
     "output_type": "stream",
     "text": [
      "Egal\n"
     ]
    }
   ],
   "source": [
    "memal= False\n",
    "smart= False\n",
    "if memal:\n",
    "    if smart:\n",
    "        print(\"Dog\")\n",
    "    else:\n",
    "        print(\"Cat\")\n",
    "else:\n",
    "    print(\"Egal\")"
   ]
  },
  {
   "cell_type": "code",
   "execution_count": 5,
   "metadata": {},
   "outputs": [
    {
     "name": "stdout",
     "output_type": "stream",
     "text": [
      "There is some items in this list.\n"
     ]
    }
   ],
   "source": [
    "some_list = [1,1]\n",
    "if some_list:\n",
    "    print(\"There is some items in this list.\")\n",
    "else:\n",
    "    print(\"The list is empty.\")"
   ]
  },
  {
   "cell_type": "markdown",
   "metadata": {},
   "source": [
    "## while loop"
   ]
  },
  {
   "cell_type": "code",
   "execution_count": 6,
   "metadata": {},
   "outputs": [
    {
     "name": "stdout",
     "output_type": "stream",
     "text": [
      "0\n",
      "1\n",
      "2\n",
      "3\n",
      "4\n",
      "5\n"
     ]
    }
   ],
   "source": [
    "count=0\n",
    "while count<= 5:\n",
    "    print(count)\n",
    "    count+=1"
   ]
  },
  {
   "cell_type": "markdown",
   "metadata": {},
   "source": [
    "## Cancel with break"
   ]
  },
  {
   "cell_type": "code",
   "execution_count": 8,
   "metadata": {},
   "outputs": [
    {
     "name": "stdout",
     "output_type": "stream",
     "text": [
      "0\n",
      "1\n",
      "2\n",
      "Break executed!\n"
     ]
    }
   ],
   "source": [
    "# using break we can come out of any loops if needed \n",
    "count=0\n",
    "while count<= 5:\n",
    "    if count ==3:\n",
    "        print(\"Break executed!\")\n",
    "        break\n",
    "    else:\n",
    "        print(count)\n",
    "    count+=1"
   ]
  },
  {
   "cell_type": "markdown",
   "metadata": {},
   "source": [
    "## skip ahead with continue"
   ]
  },
  {
   "cell_type": "code",
   "execution_count": 11,
   "metadata": {},
   "outputs": [
    {
     "name": "stdout",
     "output_type": "stream",
     "text": [
      "Enter an element for test: 1\n",
      "1 Squared is : 1\n",
      "Enter an element for test: 2\n",
      "Enter an element for test: 3\n",
      "3 Squared is : 9\n",
      "Enter an element for test: 4\n",
      "Enter an element for test: 5\n",
      "5 Squared is : 25\n",
      "Enter an element for test: q\n"
     ]
    }
   ],
   "source": [
    "# using continue we can skip one perticular iteration without coming out of any loops when needed \n",
    "\n",
    "while True:\n",
    "    value= input(\"Enter an element for test: \")\n",
    "    if value== 'q':\n",
    "        break\n",
    "    else:\n",
    "        num=int(value)\n",
    "        if num %2 ==0:\n",
    "            continue\n",
    "        print(num, \"Squared is :\", num*num)"
   ]
  },
  {
   "cell_type": "markdown",
   "metadata": {},
   "source": [
    "## Check break use using else"
   ]
  },
  {
   "cell_type": "code",
   "execution_count": 15,
   "metadata": {},
   "outputs": [
    {
     "name": "stdout",
     "output_type": "stream",
     "text": [
      "no even number found!\n"
     ]
    }
   ],
   "source": [
    "num=[1,3,5]\n",
    "position =0\n",
    "\n",
    "while position< len(num):\n",
    "    number=num[position]\n",
    "    if number %2 ==0:\n",
    "        print(\"Found even Number\", number)\n",
    "        break\n",
    "    position+=1\n",
    "    \n",
    "else: #execute only when no break occured!\n",
    "    print(\"no even number found!\")"
   ]
  },
  {
   "cell_type": "markdown",
   "metadata": {},
   "source": [
    "## Iterate with for"
   ]
  },
  {
   "cell_type": "code",
   "execution_count": 20,
   "metadata": {},
   "outputs": [
    {
     "name": "stdout",
     "output_type": "stream",
     "text": [
      "h\n",
      "e\n",
      "l\n",
      "l\n",
      "o\n",
      " \n",
      "w\n",
      "o\n",
      "r\n",
      "l\n",
      "d\n",
      "Mango\n",
      "Apple\n",
      "Banana\n",
      "Grapes\n",
      "Deepayan\n",
      "Lipi\n",
      "Chandan\n",
      "Nandy\n",
      "Thakur\n",
      "Gope\n"
     ]
    }
   ],
   "source": [
    "# Iteration from String \n",
    "string=\"hello world\"\n",
    "for letter in string:\n",
    "    print(letter)\n",
    "    \n",
    "# Iteration from Lists\n",
    "fruits=[\"Mango\",\"Apple\",\"Banana\",\"Grapes\"]\n",
    "for fruit in fruits:\n",
    "    print(fruit)\n",
    "    \n",
    "# Iteration from Dict    \n",
    "names= {\"Deepayan\": \"Nandy\",\"Lipi\": \"Thakur\",\"Chandan\": \"Gope\"}\n",
    "\n",
    "for keys in names:\n",
    "    print(keys)\n",
    "    \n",
    "for values in names.values():\n",
    "    print(values)"
   ]
  },
  {
   "cell_type": "markdown",
   "metadata": {},
   "source": [
    "## Iterate Multipal Sequences using zip()"
   ]
  },
  {
   "cell_type": "code",
   "execution_count": 22,
   "metadata": {},
   "outputs": [
    {
     "name": "stdout",
     "output_type": "stream",
     "text": [
      "Sunday : Mango and coffee\n",
      "Monday : Apple and tea\n",
      "Tuesday : Banana and Bear\n",
      "Wednusday : Grapes and Ice Coffee\n"
     ]
    }
   ],
   "source": [
    "fruits=[\"Mango\",\"Apple\",\"Banana\",\"Grapes\"]\n",
    "drinks=[\"coffee\",\"tea\",\"Bear\",\"Ice Coffee\"]\n",
    "days=[\"Sunday\",\"Monday\",\"Tuesday\",\"Wednusday\"]\n",
    "\n",
    "for day, fruit, drink in zip(days,fruits,drinks):\n",
    "    print(day,\":\",fruit,\"and\",drink)"
   ]
  },
  {
   "cell_type": "markdown",
   "metadata": {},
   "source": [
    "## Generate Number Sequence with range()"
   ]
  },
  {
   "cell_type": "code",
   "execution_count": 23,
   "metadata": {},
   "outputs": [
    {
     "name": "stdout",
     "output_type": "stream",
     "text": [
      "0\n",
      "1\n",
      "2\n",
      "3\n",
      "4\n"
     ]
    }
   ],
   "source": [
    "for i in range(0,5):\n",
    "    print(i)"
   ]
  },
  {
   "cell_type": "code",
   "execution_count": 24,
   "metadata": {},
   "outputs": [
    {
     "name": "stdout",
     "output_type": "stream",
     "text": [
      "[0, 1, 2, 3, 4, 5]\n"
     ]
    }
   ],
   "source": [
    "# generating list using range()\n",
    "list1= list(range(0,6))\n",
    "print(list1)"
   ]
  },
  {
   "cell_type": "code",
   "execution_count": 25,
   "metadata": {},
   "outputs": [
    {
     "name": "stdout",
     "output_type": "stream",
     "text": [
      "[10, 9, 8, 7, 6, 5, 4, 3, 2, 1]\n"
     ]
    }
   ],
   "source": [
    "list2= list(range(10,0,-1))\n",
    "print(list2)"
   ]
  },
  {
   "cell_type": "markdown",
   "metadata": {},
   "source": [
    "## List comprihansion \n",
    "Comprihantion is a compact way to create a python data type using one or more iteration."
   ]
  },
  {
   "cell_type": "code",
   "execution_count": 26,
   "metadata": {},
   "outputs": [
    {
     "name": "stdout",
     "output_type": "stream",
     "text": [
      "[0, 1, 2, 3, 4, 5, 6, 7, 8, 9, 10]\n"
     ]
    }
   ],
   "source": [
    "number_list1=[]\n",
    "for i in range(0,11):\n",
    "    number_list1.append(i)\n",
    "\n",
    "print(number_list1)"
   ]
  },
  {
   "cell_type": "code",
   "execution_count": 29,
   "metadata": {},
   "outputs": [
    {
     "name": "stdout",
     "output_type": "stream",
     "text": [
      "[0, 1, 2, 3, 4, 5, 6, 7, 8, 9, 10]\n"
     ]
    }
   ],
   "source": [
    "number_list2=list(i for i in range(0,11))\n",
    "print(number_list2)"
   ]
  },
  {
   "cell_type": "code",
   "execution_count": 30,
   "metadata": {},
   "outputs": [
    {
     "name": "stdout",
     "output_type": "stream",
     "text": [
      "[1, 3, 5, 7, 9]\n"
     ]
    }
   ],
   "source": [
    "number_list3=list(i for i in range(0,11) if i%2==1)\n",
    "print(number_list3)"
   ]
  },
  {
   "cell_type": "markdown",
   "metadata": {},
   "source": [
    "## Functions \n",
    "Function is a block of code with a perticalar name. it makes big python programes reuseable and easy to manage."
   ]
  },
  {
   "cell_type": "code",
   "execution_count": 33,
   "metadata": {},
   "outputs": [
    {
     "name": "stdout",
     "output_type": "stream",
     "text": [
      "Deepayan Nandy\n",
      "22\n",
      "red\n",
      "Don't Know!\n"
     ]
    }
   ],
   "source": [
    "# defining a function\n",
    "def do_nothing():\n",
    "    pass\n",
    "\n",
    "def print_name():\n",
    "    print(\"Deepayan Nandy\")\n",
    "\n",
    "def add(x,y):\n",
    "    print(x+y)\n",
    "    \n",
    "def flower_color(flour):\n",
    "    if flour == \"rose\":\n",
    "        print(\"red\")\n",
    "    else:\n",
    "        print(\"Don't Know!\")\n",
    "    \n",
    "# calling function\n",
    "do_nothing()\n",
    "print_name()\n",
    "add(10,12)\n",
    "flower_color(\"rose\")\n",
    "flower_color(\"lily\")"
   ]
  },
  {
   "cell_type": "code",
   "execution_count": 37,
   "metadata": {},
   "outputs": [
    {
     "name": "stdout",
     "output_type": "stream",
     "text": [
      "{'drins': 'cococola', 'maincourse': 'Chicken tanduri', 'dessert': 'Ice cream'} \n",
      " {'drins': 'Chicken tanduri', 'maincourse': '7up', 'dessert': 'Ice cream'}\n"
     ]
    }
   ],
   "source": [
    "#posional arguentsb example\n",
    "\n",
    "def menue(drinks,maincourse,dessert):\n",
    "    return{\"drins\":drinks,\"maincourse\":maincourse,\"dessert\":dessert}\n",
    "\n",
    "menu1=menue(\"cococola\",\"Chicken tanduri\",\"Ice cream\")\n",
    "menu2=menue(\"Chicken tanduri\",\"7up\",\"Ice cream\")\n",
    "\n",
    "print(menu1,\"\\n\",menu2)"
   ]
  },
  {
   "cell_type": "code",
   "execution_count": 38,
   "metadata": {},
   "outputs": [
    {
     "name": "stdout",
     "output_type": "stream",
     "text": [
      "{'drins': 'cococola', 'maincourse': 'Chicken tanduri', 'dessert': 'Ice cream'} \n",
      " {'drins': 'cococola', 'maincourse': 'Chicken tanduri', 'dessert': 'Ice cream'}\n"
     ]
    }
   ],
   "source": [
    "#Keyword arguentsb example\n",
    "\n",
    "menu3=menue(\"cococola\",\"Chicken tanduri\",\"Ice cream\")\n",
    "menu4=menue(maincourse=\"Chicken tanduri\",drinks=\"cococola\",dessert=\"Ice cream\")\n",
    "\n",
    "print(menu3,\"\\n\",menu4)"
   ]
  },
  {
   "cell_type": "code",
   "execution_count": 41,
   "metadata": {},
   "outputs": [
    {
     "name": "stdout",
     "output_type": "stream",
     "text": [
      "{'drins': 'cococola', 'maincourse': 'Chicken tanduri', 'dessert': 'Ice cream'} \n",
      " {'drins': '7up', 'maincourse': 'Chicken tanduri', 'dessert': 'Mohito'}\n"
     ]
    }
   ],
   "source": [
    "# Specify default parameter values\n",
    "\n",
    "def menue(drinks,maincourse,dessert=\"Mohito\"):\n",
    "    return{\"drins\":drinks,\"maincourse\":maincourse,\"dessert\":dessert}\n",
    "\n",
    "menu5=menue(\"cococola\",\"Chicken tanduri\",\"Ice cream\")\n",
    "menu6=menue(\"7up\",\"Chicken tanduri\")\n",
    "\n",
    "print(menu5,\"\\n\",menu6)"
   ]
  },
  {
   "cell_type": "markdown",
   "metadata": {},
   "source": [
    "## Docstrings of a function"
   ]
  },
  {
   "cell_type": "code",
   "execution_count": 51,
   "metadata": {},
   "outputs": [
    {
     "name": "stdout",
     "output_type": "stream",
     "text": [
      "Help on function add in module __main__:\n",
      "\n",
      "add(a, b)\n",
      "    add returns its inputs addtion\n",
      "\n",
      "None\n",
      "29\n"
     ]
    }
   ],
   "source": [
    "def add(a,b):\n",
    "    'add returns its inputs addtion'\n",
    "    return a+b\n",
    "print(help(add))\n",
    "x=add(a=10,b=19)\n",
    "print(x)"
   ]
  },
  {
   "cell_type": "markdown",
   "metadata": {},
   "source": [
    "## Inner functions"
   ]
  },
  {
   "cell_type": "code",
   "execution_count": 50,
   "metadata": {},
   "outputs": [
    {
     "name": "stdout",
     "output_type": "stream",
     "text": [
      "15\n",
      "None\n"
     ]
    }
   ],
   "source": [
    "def outer(a,b):\n",
    "    def inner(c,d):\n",
    "        print(c+d)\n",
    "    return inner(a+1,b+1)\n",
    "\n",
    "print(outer(9,4))"
   ]
  },
  {
   "cell_type": "markdown",
   "metadata": {},
   "source": [
    "## Anonymous Functions: the lambda()"
   ]
  },
  {
   "cell_type": "code",
   "execution_count": 8,
   "metadata": {},
   "outputs": [
    {
     "name": "stdout",
     "output_type": "stream",
     "text": [
      "Hello!\n",
      "Deepayan!\n",
      "Nandy!\n",
      "Hello!\n",
      "Deepayan!\n",
      "Nandy!\n",
      "HelloHi\n",
      "DeepayanHi\n",
      "NandyHi\n"
     ]
    }
   ],
   "source": [
    "list1=[\"Hello\",\"Deepayan\",\"Nandy\"]\n",
    "\n",
    "def edit_story(words,func):\n",
    "    for word in words:\n",
    "        print(func(word))\n",
    "        \n",
    "def makecap(word):\n",
    "    return word.capitalize()+\"!\"\n",
    "\n",
    "# using regular method\n",
    "edit_story(list1,makecap)\n",
    "\n",
    "# using lambda function\n",
    "edit_story(list1,lambda word: word.capitalize()+\"!\")\n",
    "\n",
    "edit_story(list1,lambda word: word+\"Hi\")"
   ]
  },
  {
   "cell_type": "markdown",
   "metadata": {},
   "source": [
    "## Generators\n",
    "these are the pythons Sequence creation object"
   ]
  },
  {
   "cell_type": "code",
   "execution_count": 14,
   "metadata": {},
   "outputs": [
    {
     "name": "stdout",
     "output_type": "stream",
     "text": [
      "[0, 1, 2, 3, 4, 5, 6, 7, 8, 9, 10, 11, 12, 13, 14, 15, 16, 17, 18, 19, 20, 21, 22, 23, 24, 25, 26, 27, 28, 29, 30, 31, 32, 33, 34, 35, 36, 37, 38, 39, 40, 41, 42, 43, 44, 45, 46, 47, 48, 49, 50, 51, 52, 53, 54]\n",
      "[0, 1, 2, 3, 4, 5, 6, 7, 8, 9, 10, 11, 12, 13, 14, 15, 16, 17, 18, 19, 20, 21, 22, 23, 24, 25, 26, 27, 28, 29, 30, 31, 32, 33, 34, 35, 36, 37, 38, 39, 40, 41, 42, 43, 44, 45, 46, 47, 48, 49, 50, 51, 52, 53, 54]\n"
     ]
    }
   ],
   "source": [
    "# Without Generator functions\n",
    "def my_range(start=0,stop=10,step=1):\n",
    "    number=start\n",
    "    while number<stop:\n",
    "        yield number\n",
    "        number+=step\n",
    "        \n",
    "list2=list(my_range(0,55))\n",
    "print(list2)\n",
    "\n",
    "# Without Generator function\n",
    "list3=list(range(0,55))\n",
    "print(list3)\n"
   ]
  },
  {
   "cell_type": "markdown",
   "metadata": {},
   "source": [
    "## Decorators\n",
    "Decorater is a python features where you can create wrapper functions to make the programmers more readable and efficient "
   ]
  },
  {
   "cell_type": "code",
   "execution_count": 24,
   "metadata": {},
   "outputs": [
    {
     "name": "stdout",
     "output_type": "stream",
     "text": [
      "cal_sqr takes : 11.153936386108398 milisecounds!\n",
      "cal_sqr takes : 18.48292350769043 milisecounds!\n",
      "done!\n"
     ]
    }
   ],
   "source": [
    "## Problem statement example\n",
    "import time\n",
    "\n",
    "def cal_sqr(numbers):\n",
    "    start=time.time()\n",
    "    new_list=[]\n",
    "    for number in numbers:\n",
    "        new_list.append(number*number)\n",
    "    end=time.time()\n",
    "    print(\"cal_sqr takes :\",(end-start)*1000,\"milisecounds!\")\n",
    "    return new_list\n",
    "        \n",
    "def cal_cube(numbers):\n",
    "    start=time.time()\n",
    "    new_list=[]\n",
    "    for number in numbers:\n",
    "        new_list.append(number*number*number)\n",
    "    end=time.time()\n",
    "    print(\"cal_sqr takes :\",(end-start)*1000,\"milisecounds!\")\n",
    "    return new_list\n",
    "\n",
    "number_list=list(range(1,100000))\n",
    "sqr=cal_sqr(number_list)\n",
    "cub=cal_cube(number_list)\n",
    "print(\"done!\")"
   ]
  },
  {
   "cell_type": "code",
   "execution_count": 31,
   "metadata": {},
   "outputs": [
    {
     "name": "stdout",
     "output_type": "stream",
     "text": [
      "cal_sqr takes : 12.215137481689453 milisecounds!\n",
      "cal_cube takes : 20.236968994140625 milisecounds!\n",
      "done!\n"
     ]
    }
   ],
   "source": [
    "## Using Decorators\n",
    "import time\n",
    "\n",
    "def timer_count(fun):\n",
    "    def wrapper(*args,**kwargs):\n",
    "        start=time.time()\n",
    "        result=fun(*args,**kwargs)\n",
    "        end=time.time()\n",
    "        print(fun.__name__,\"takes :\",(end-start)*1000,\"milisecounds!\")\n",
    "        return result\n",
    "    return wrapper\n",
    "\n",
    "@timer_count\n",
    "def cal_sqr(numbers):\n",
    "    new_list=[]\n",
    "    for number in numbers:\n",
    "        new_list.append(number*number)\n",
    "    return new_list\n",
    "\n",
    "@timer_count        \n",
    "def cal_cube(numbers):\n",
    "    new_list=[]\n",
    "    for number in numbers:\n",
    "        new_list.append(number*number*number)\n",
    "    return new_list\n",
    "\n",
    "number_list=list(range(1,100000))\n",
    "sqr=cal_sqr(number_list)\n",
    "cub=cal_cube(number_list)\n",
    "print(\"done!\")"
   ]
  },
  {
   "cell_type": "markdown",
   "metadata": {},
   "source": [
    "## Error Handling with try and except\n",
    "If there is any possiabilities of getting any error while running the script we generaly write the pice of code under try and except blocks. To prevent accidental crashes.\n",
    "thoough it can't able to fix the problem but it will notify the problem and shuts your programmes gracefully "
   ]
  },
  {
   "cell_type": "code",
   "execution_count": 36,
   "metadata": {},
   "outputs": [
    {
     "name": "stdout",
     "output_type": "stream",
     "text": [
      "a\n",
      "d\n"
     ]
    },
    {
     "ename": "IndexError",
     "evalue": "list index out of range",
     "output_type": "error",
     "traceback": [
      "\u001b[0;31m---------------------------------------------------------------------------\u001b[0m",
      "\u001b[0;31mIndexError\u001b[0m                                Traceback (most recent call last)",
      "\u001b[0;32m<ipython-input-36-5a4f1534f590>\u001b[0m in \u001b[0;36m<module>\u001b[0;34m\u001b[0m\n\u001b[1;32m      3\u001b[0m \u001b[0mprint\u001b[0m\u001b[0;34m(\u001b[0m\u001b[0mlist_4\u001b[0m\u001b[0;34m[\u001b[0m\u001b[0;36m0\u001b[0m\u001b[0;34m]\u001b[0m\u001b[0;34m)\u001b[0m\u001b[0;34m\u001b[0m\u001b[0;34m\u001b[0m\u001b[0m\n\u001b[1;32m      4\u001b[0m \u001b[0mprint\u001b[0m\u001b[0;34m(\u001b[0m\u001b[0mlist_4\u001b[0m\u001b[0;34m[\u001b[0m\u001b[0;36m3\u001b[0m\u001b[0;34m]\u001b[0m\u001b[0;34m)\u001b[0m\u001b[0;34m\u001b[0m\u001b[0;34m\u001b[0m\u001b[0m\n\u001b[0;32m----> 5\u001b[0;31m \u001b[0mprint\u001b[0m\u001b[0;34m(\u001b[0m\u001b[0mlist_4\u001b[0m\u001b[0;34m[\u001b[0m\u001b[0;36m6\u001b[0m\u001b[0;34m]\u001b[0m\u001b[0;34m)\u001b[0m\u001b[0;34m\u001b[0m\u001b[0;34m\u001b[0m\u001b[0m\n\u001b[0m\u001b[1;32m      6\u001b[0m \u001b[0;34m\u001b[0m\u001b[0m\n\u001b[1;32m      7\u001b[0m \u001b[0mprint\u001b[0m\u001b[0;34m(\u001b[0m\u001b[0;34m\"Done!\"\u001b[0m\u001b[0;34m)\u001b[0m\u001b[0;34m\u001b[0m\u001b[0;34m\u001b[0m\u001b[0m\n",
      "\u001b[0;31mIndexError\u001b[0m: list index out of range"
     ]
    }
   ],
   "source": [
    "## Without Try and Except \n",
    "\n",
    "list_4=[\"a\",\"b\",\"c\",\"d\"]\n",
    "\n",
    "print(list_4[0])\n",
    "print(list_4[3])\n",
    "print(list_4[6])\n",
    "\n",
    "print(\"Done!\")"
   ]
  },
  {
   "cell_type": "code",
   "execution_count": 35,
   "metadata": {},
   "outputs": [
    {
     "name": "stdout",
     "output_type": "stream",
     "text": [
      "a\n",
      "d\n",
      "Something went wrong!\n",
      "Done!\n"
     ]
    }
   ],
   "source": [
    "## With Try and Except \n",
    "\n",
    "list_4=[\"a\",\"b\",\"c\",\"d\"]\n",
    "\n",
    "try:\n",
    "    print(list_4[0])\n",
    "    print(list_4[3])\n",
    "    print(list_4[6])\n",
    "except:\n",
    "    print(\"Something went wrong!\")\n",
    "    \n",
    "print(\"Done!\")"
   ]
  },
  {
   "cell_type": "code",
   "execution_count": null,
   "metadata": {},
   "outputs": [],
   "source": []
  }
 ],
 "metadata": {
  "kernelspec": {
   "display_name": "Python 3",
   "language": "python",
   "name": "python3"
  },
  "language_info": {
   "codemirror_mode": {
    "name": "ipython",
    "version": 3
   },
   "file_extension": ".py",
   "mimetype": "text/x-python",
   "name": "python",
   "nbconvert_exporter": "python",
   "pygments_lexer": "ipython3",
   "version": "3.8.3"
  }
 },
 "nbformat": 4,
 "nbformat_minor": 4
}
