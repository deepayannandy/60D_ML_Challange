{
 "cells": [
  {
   "cell_type": "markdown",
   "metadata": {},
   "source": [
    "# Python Lists\n",
    "Lists are a python datatype where we can store zero to N number of same or different python objects. "
   ]
  },
  {
   "cell_type": "markdown",
   "metadata": {},
   "source": [
    "## Lists are created with [] or list()"
   ]
  },
  {
   "cell_type": "code",
   "execution_count": 24,
   "metadata": {},
   "outputs": [
    {
     "name": "stdout",
     "output_type": "stream",
     "text": [
      "[]\n",
      "['sunday', 'monday', 'tuesday', 'wednasday', 'thrusday', 'friday', 'saterday']\n",
      "[]\n"
     ]
    }
   ],
   "source": [
    "list1=[]\n",
    "weekdays=[\"sunday\",\"monday\",\"tuesday\",\"wednasday\",\"thrusday\",\"friday\",\"saterday\"]\n",
    "list2=list()\n",
    "\n",
    "print(list1)\n",
    "print(weekdays)\n",
    "print(list2)"
   ]
  },
  {
   "cell_type": "markdown",
   "metadata": {},
   "source": [
    "## Converting Other Data types to list with list()"
   ]
  },
  {
   "cell_type": "code",
   "execution_count": 3,
   "metadata": {},
   "outputs": [
    {
     "name": "stdout",
     "output_type": "stream",
     "text": [
      "['D', 'e', 'e', 'p', 'a', 'y', 'a', 'n', ' ', 'N', 'a', 'n', 'd', 'y']\n",
      "['6', '3', '1998']\n"
     ]
    }
   ],
   "source": [
    "name=\"Deepayan Nandy\"\n",
    "dob='6/3/1998'\n",
    "name_list=list(name)\n",
    "dob_list=dob.split('/')\n",
    "print(name_list)\n",
    "print(dob_list)"
   ]
  },
  {
   "cell_type": "markdown",
   "metadata": {},
   "source": [
    "## Get an item by its offset using [offset]"
   ]
  },
  {
   "cell_type": "code",
   "execution_count": 6,
   "metadata": {},
   "outputs": [
    {
     "name": "stdout",
     "output_type": "stream",
     "text": [
      "['sunday', 'monday', 'tuesday', 'wednasday', 'thrusday', 'friday', 'saterday']\n",
      "monday\n",
      "thrusday\n",
      "saterday\n"
     ]
    }
   ],
   "source": [
    "print(weekdays)\n",
    "print(weekdays[1])\n",
    "print(weekdays[4])\n",
    "print(weekdays[-1])"
   ]
  },
  {
   "cell_type": "markdown",
   "metadata": {},
   "source": [
    "## Creating Multi dimentional list\n",
    "a list can contain more than one lists inside them. Example:"
   ]
  },
  {
   "cell_type": "code",
   "execution_count": 31,
   "metadata": {},
   "outputs": [
    {
     "name": "stdout",
     "output_type": "stream",
     "text": [
      "[['Chandan', 'Mrinal', 'Rohit'], ['Harshib', 'Dipankar'], ['Lipi', 'Deepayan', 'Liyan']]\n",
      "['Lipi', 'Deepayan', 'Liyan']\n",
      "Harshib\n"
     ]
    }
   ],
   "source": [
    "class1=[\"Chandan\",\"Mrinal\",\"Rohit\"]\n",
    "class2=[\"Harshib\",\"Dipankar\"]\n",
    "class3=[\"Lipi\",\"Deepayan\",\"Liyan\"]\n",
    "\n",
    "all_students=[class1,class2,class3]\n",
    "print(all_students)\n",
    "## now if we want to extract data from a Multi dimentional list\n",
    "print(all_students[2])\n",
    "print(all_students[1][0])  ## most importaint and useful feature"
   ]
  },
  {
   "cell_type": "markdown",
   "metadata": {},
   "source": [
    "## Updating / Changing items by there [offset]"
   ]
  },
  {
   "cell_type": "code",
   "execution_count": 13,
   "metadata": {},
   "outputs": [
    {
     "name": "stdout",
     "output_type": "stream",
     "text": [
      "['Chandan', 'Mrinal', 'Rohit']\n",
      "['Chandan', 'Mrinal', 'Akshay']\n"
     ]
    }
   ],
   "source": [
    "# changing the 3rd student name from Rohit t Akshay\n",
    "print(class1)\n",
    "class1[2]=\"Akshay\"\n",
    "print(class1)"
   ]
  },
  {
   "cell_type": "markdown",
   "metadata": {},
   "source": [
    "## Slicing Lists by the offset Range using [Start:End:Steps]"
   ]
  },
  {
   "cell_type": "code",
   "execution_count": 15,
   "metadata": {},
   "outputs": [
    {
     "name": "stdout",
     "output_type": "stream",
     "text": [
      "['wednasday', 'thrusday', 'friday', 'saterday']\n",
      "['sunday', 'monday', 'tuesday', 'wednasday']\n",
      "['sunday', 'tuesday', 'thrusday', 'saterday']\n",
      "['saterday', 'friday', 'thrusday', 'wednasday', 'tuesday', 'monday', 'sunday']\n"
     ]
    }
   ],
   "source": [
    "# Starting from 3rd index till the end\n",
    "print(weekdays[3::])\n",
    "# starting from index 0 till 4th endex\n",
    "print(weekdays[0:4:])\n",
    "# starting from index 0th index till the end with skipping the 1 items\n",
    "print(weekdays[0::2])\n",
    "# Reversing lists using slicing operater\n",
    "print(weekdays[::-1])"
   ]
  },
  {
   "cell_type": "markdown",
   "metadata": {},
   "source": [
    "## Adding new items using the append()"
   ]
  },
  {
   "cell_type": "code",
   "execution_count": 25,
   "metadata": {},
   "outputs": [
    {
     "name": "stdout",
     "output_type": "stream",
     "text": [
      "[]\n",
      "['Aditi']\n",
      "['Aditi', 121]\n"
     ]
    }
   ],
   "source": [
    "print(list1)\n",
    "# the items which are added using append function are placed at the end of the exixting list\n",
    "list1.append(\"Aditi\")\n",
    "print(list1)\n",
    "# using append function we can add any kind of python objects\n",
    "list1.append(121)\n",
    "print(list1)"
   ]
  },
  {
   "cell_type": "markdown",
   "metadata": {},
   "source": [
    "## Combining Lists by Using extend() or += "
   ]
  },
  {
   "cell_type": "code",
   "execution_count": 32,
   "metadata": {},
   "outputs": [
    {
     "name": "stdout",
     "output_type": "stream",
     "text": [
      "['Chandan', 'Mrinal', 'Rohit']\n",
      "['Harshib', 'Dipankar']\n",
      "['Lipi', 'Deepayan', 'Liyan']\n",
      "['Chandan', 'Mrinal', 'Rohit', 'Harshib', 'Dipankar']\n",
      "['Chandan', 'Mrinal', 'Rohit', 'Harshib', 'Dipankar', 'Lipi', 'Deepayan', 'Liyan']\n"
     ]
    }
   ],
   "source": [
    "print(class1)\n",
    "print(class2)\n",
    "print(class3)\n",
    "class1.extend(class2)\n",
    "print(class1)\n",
    "class1+= class3\n",
    "print(class1)"
   ]
  },
  {
   "cell_type": "markdown",
   "metadata": {},
   "source": [
    "## Adding intems by offsets using insert()"
   ]
  },
  {
   "cell_type": "code",
   "execution_count": 27,
   "metadata": {},
   "outputs": [
    {
     "name": "stdout",
     "output_type": "stream",
     "text": [
      "['Chandan', 'Mrinal', 'Akshay', 'Harshib', 'Dipankar', 'Lipi', 'Deepayan', 'Liyan']\n",
      "['Chandan', 'Mrinal', 'Akshay', 'Harshib', 'Dipak', 'Dipankar', 'Lipi', 'Deepayan', 'Liyan']\n"
     ]
    }
   ],
   "source": [
    "print(class1)\n",
    "class1.insert(4,\"Dipak\") # always remember this function doesn't replace the item it shifts the old item by 1 offset\n",
    "print(class1)"
   ]
  },
  {
   "cell_type": "markdown",
   "metadata": {},
   "source": [
    "## Deleting item by there [offsets]"
   ]
  },
  {
   "cell_type": "code",
   "execution_count": 28,
   "metadata": {},
   "outputs": [
    {
     "name": "stdout",
     "output_type": "stream",
     "text": [
      "['Chandan', 'Mrinal', 'Akshay', 'Harshib', 'Dipak', 'Dipankar', 'Lipi', 'Deepayan', 'Liyan']\n",
      "['Chandan', 'Mrinal', 'Akshay', 'Harshib', 'Dipankar', 'Lipi', 'Deepayan', 'Liyan']\n"
     ]
    }
   ],
   "source": [
    "print(class1)\n",
    "del class1[4]\n",
    "print(class1)"
   ]
  },
  {
   "cell_type": "markdown",
   "metadata": {},
   "source": [
    "## Removing items by the values using remove()"
   ]
  },
  {
   "cell_type": "code",
   "execution_count": 33,
   "metadata": {},
   "outputs": [
    {
     "name": "stdout",
     "output_type": "stream",
     "text": [
      "['Chandan', 'Mrinal', 'Rohit', 'Harshib', 'Dipankar', 'Lipi', 'Deepayan', 'Liyan']\n",
      "['Chandan', 'Mrinal', 'Rohit', 'Harshib', 'Lipi', 'Deepayan', 'Liyan']\n"
     ]
    }
   ],
   "source": [
    "print(class1)\n",
    "class1.remove(\"Dipankar\")\n",
    "print(class1)"
   ]
  },
  {
   "cell_type": "markdown",
   "metadata": {},
   "source": [
    "## Deleate items using pop()\n",
    "Always remember uing the pop() the last item on the list will be deleated."
   ]
  },
  {
   "cell_type": "code",
   "execution_count": 34,
   "metadata": {},
   "outputs": [
    {
     "name": "stdout",
     "output_type": "stream",
     "text": [
      "['Chandan', 'Mrinal', 'Rohit', 'Harshib', 'Lipi', 'Deepayan', 'Liyan']\n",
      "['Chandan', 'Mrinal', 'Rohit', 'Harshib', 'Lipi', 'Deepayan']\n"
     ]
    }
   ],
   "source": [
    "print(class1)\n",
    "class1.pop()\n",
    "print(class1)"
   ]
  },
  {
   "cell_type": "markdown",
   "metadata": {},
   "source": [
    "## Finding the items index using the items value"
   ]
  },
  {
   "cell_type": "code",
   "execution_count": 35,
   "metadata": {},
   "outputs": [
    {
     "name": "stdout",
     "output_type": "stream",
     "text": [
      "4\n"
     ]
    }
   ],
   "source": [
    "print(class1.index(\"Lipi\"))"
   ]
  },
  {
   "cell_type": "markdown",
   "metadata": {},
   "source": [
    "## Test for a Value with in"
   ]
  },
  {
   "cell_type": "code",
   "execution_count": 38,
   "metadata": {},
   "outputs": [
    {
     "name": "stdout",
     "output_type": "stream",
     "text": [
      "True\n",
      "False\n"
     ]
    }
   ],
   "source": [
    "print(\"Deepayan\" in class1)\n",
    "print(\"Liyan\" in class1)"
   ]
  },
  {
   "cell_type": "markdown",
   "metadata": {},
   "source": [
    "## Count the occurance of an item in a list by using count()"
   ]
  },
  {
   "cell_type": "code",
   "execution_count": 41,
   "metadata": {},
   "outputs": [
    {
     "name": "stdout",
     "output_type": "stream",
     "text": [
      "1\n"
     ]
    }
   ],
   "source": [
    "print(weekdays.count(\"sunday\"))"
   ]
  },
  {
   "cell_type": "markdown",
   "metadata": {},
   "source": [
    "## Finding the length of a list using len()"
   ]
  },
  {
   "cell_type": "code",
   "execution_count": 42,
   "metadata": {},
   "outputs": [
    {
     "name": "stdout",
     "output_type": "stream",
     "text": [
      "7\n"
     ]
    }
   ],
   "source": [
    "print(len(weekdays))"
   ]
  },
  {
   "cell_type": "markdown",
   "metadata": {},
   "source": [
    "## Shorting a list using .sort()"
   ]
  },
  {
   "cell_type": "code",
   "execution_count": 43,
   "metadata": {},
   "outputs": [
    {
     "name": "stdout",
     "output_type": "stream",
     "text": [
      "['sunday', 'monday', 'tuesday', 'wednasday', 'thrusday', 'friday', 'saterday']\n",
      "['friday', 'monday', 'saterday', 'sunday', 'thrusday', 'tuesday', 'wednasday']\n"
     ]
    }
   ],
   "source": [
    "print(weekdays)\n",
    "weekdays.sort()\n",
    "print(weekdays)"
   ]
  },
  {
   "cell_type": "code",
   "execution_count": null,
   "metadata": {},
   "outputs": [],
   "source": []
  }
 ],
 "metadata": {
  "kernelspec": {
   "display_name": "Python 3",
   "language": "python",
   "name": "python3"
  },
  "language_info": {
   "codemirror_mode": {
    "name": "ipython",
    "version": 3
   },
   "file_extension": ".py",
   "mimetype": "text/x-python",
   "name": "python",
   "nbconvert_exporter": "python",
   "pygments_lexer": "ipython3",
   "version": "3.8.3"
  }
 },
 "nbformat": 4,
 "nbformat_minor": 4
}
