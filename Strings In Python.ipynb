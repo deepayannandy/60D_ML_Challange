{
 "cells": [
  {
   "cell_type": "markdown",
   "metadata": {},
   "source": [
    "# Strings In Python\n",
    "Strings can be initializes by single or double couts."
   ]
  },
  {
   "cell_type": "code",
   "execution_count": 5,
   "metadata": {},
   "outputs": [
    {
     "name": "stdout",
     "output_type": "stream",
     "text": [
      "Deepayan\n",
      "Nandy\n"
     ]
    }
   ],
   "source": [
    "a='Deepayan'\n",
    "print(a)\n",
    "b=\"Nandy\"\n",
    "print(b)"
   ]
  },
  {
   "cell_type": "markdown",
   "metadata": {},
   "source": [
    "Strings can be also initialized by the Triple Single or Double cotes."
   ]
  },
  {
   "cell_type": "code",
   "execution_count": 9,
   "metadata": {},
   "outputs": [
    {
     "name": "stdout",
     "output_type": "stream",
     "text": [
      "You brought me Sunshine\n",
      "    When I only show rain\n",
      "You brought me Loughter\n",
      "    When I only felt Pain\n"
     ]
    }
   ],
   "source": [
    "poem='''You brought me Sunshine\n",
    "    When I only show rain\n",
    "You brought me Loughter\n",
    "    When I only felt Pain'''\n",
    "print(poem)"
   ]
  },
  {
   "cell_type": "markdown",
   "metadata": {},
   "source": [
    "## Escape with \\ \n",
    "if we want our text to come on the next line them we use \"\\n\" "
   ]
  },
  {
   "cell_type": "code",
   "execution_count": 10,
   "metadata": {},
   "outputs": [
    {
     "name": "stdout",
     "output_type": "stream",
     "text": [
      "Hello World \n",
      " i am a Python happy Script!\n"
     ]
    }
   ],
   "source": [
    "str1= \"Hello World \\n i am a Python happy Script!\"\n",
    "print(str1)"
   ]
  },
  {
   "cell_type": "markdown",
   "metadata": {},
   "source": [
    "## Combine with +\n",
    "if you want to combine 2 or more strings then you can simply do that by \"+\" "
   ]
  },
  {
   "cell_type": "code",
   "execution_count": 12,
   "metadata": {},
   "outputs": [
    {
     "name": "stdout",
     "output_type": "stream",
     "text": [
      "DeepayanNandy\n"
     ]
    }
   ],
   "source": [
    "first_name= \"Deepayan\"\n",
    "last_name= \"Nandy\"\n",
    "full_name=first_name+last_name\n",
    "print(full_name)"
   ]
  },
  {
   "cell_type": "markdown",
   "metadata": {},
   "source": [
    "## Duplicate with *\n",
    "Python is the only programming language which supports String Multiplication"
   ]
  },
  {
   "cell_type": "code",
   "execution_count": 15,
   "metadata": {},
   "outputs": [
    {
     "name": "stdout",
     "output_type": "stream",
     "text": [
      "Hi Hi Hi Hi Hi \n",
      "Bye Bye Bye Bye Bye Bye Bye Bye Bye Bye \n"
     ]
    }
   ],
   "source": [
    "str1=\"Hi \"\n",
    "str2=\"Bye \"\n",
    "print(str1*5)\n",
    "print(str2*10)"
   ]
  },
  {
   "cell_type": "markdown",
   "metadata": {},
   "source": [
    "## Extracting Charactor with []\n",
    "In Python we can extract any character from a given string by using there index number(Starting from 0)"
   ]
  },
  {
   "cell_type": "code",
   "execution_count": 18,
   "metadata": {
    "scrolled": true
   },
   "outputs": [
    {
     "name": "stdout",
     "output_type": "stream",
     "text": [
      "Deepayan\n",
      "e a\n"
     ]
    }
   ],
   "source": [
    "print(first_name)\n",
    "print(first_name[1],first_name[4] )"
   ]
  },
  {
   "cell_type": "markdown",
   "metadata": {},
   "source": [
    "## Slice a string using [start: end : step]"
   ]
  },
  {
   "cell_type": "code",
   "execution_count": 24,
   "metadata": {},
   "outputs": [
    {
     "name": "stdout",
     "output_type": "stream",
     "text": [
      "DeepayanNandy\n",
      "payanNandy\n",
      "paya\n",
      "Deaa\n",
      "ydnaNnayapeeD\n"
     ]
    }
   ],
   "source": [
    "print(full_name)\n",
    "print(full_name[3::])\n",
    "print(full_name[3:7:])\n",
    "print(full_name[:7:2])\n",
    "print(full_name[::-1])"
   ]
  },
  {
   "cell_type": "markdown",
   "metadata": {},
   "source": [
    "## Find the string Length with the len()"
   ]
  },
  {
   "cell_type": "code",
   "execution_count": 26,
   "metadata": {},
   "outputs": [
    {
     "name": "stdout",
     "output_type": "stream",
     "text": [
      "Size of the variable fullname is : 13\n"
     ]
    }
   ],
   "source": [
    "print(\"Size of the variable fullname is :\",len(full_name))"
   ]
  },
  {
   "cell_type": "markdown",
   "metadata": {},
   "source": [
    "## Split with split()\n",
    "in python using this function we can split our string where there is a perticular partern maches"
   ]
  },
  {
   "cell_type": "code",
   "execution_count": 27,
   "metadata": {},
   "outputs": [
    {
     "name": "stdout",
     "output_type": "stream",
     "text": [
      "['Hello', 'World!', 'python', 'is', 'a', 'very', 'powerful', 'Programming', 'language.', 'And', 'I', 'love', 'it.']\n",
      "['Hello World', ' python is a very powerful Programming language. And I love it.']\n",
      "['Hello World! python is a very powerful Programming language', ' And I love it', '']\n"
     ]
    }
   ],
   "source": [
    "str3=\"Hello World! python is a very powerful Programming language. And I love it.\"\n",
    "print(str3.split())\n",
    "print(str3.split(\"!\"))\n",
    "print(str3.split(\".\"))"
   ]
  },
  {
   "cell_type": "markdown",
   "metadata": {},
   "source": [
    "## Other Some interesting features of Strings in Python"
   ]
  },
  {
   "cell_type": "code",
   "execution_count": 36,
   "metadata": {},
   "outputs": [
    {
     "name": "stdout",
     "output_type": "stream",
     "text": [
      "You brought me Sunshine\n",
      "    When I only show rain\n",
      "You brought me Loughter\n",
      "    When I only felt Pain\n",
      "True\n",
      "False\n",
      "35\n",
      "85\n",
      "2\n"
     ]
    }
   ],
   "source": [
    "print(poem)\n",
    "print(poem.startswith(\"You\"))\n",
    "print(poem.endswith(\"you\"))\n",
    "print(poem.find(\"only\"))\n",
    "print(poem.rfind(\"only\"))\n",
    "print(poem.count(\"only\"))"
   ]
  },
  {
   "cell_type": "code",
   "execution_count": null,
   "metadata": {},
   "outputs": [],
   "source": []
  }
 ],
 "metadata": {
  "kernelspec": {
   "display_name": "Python 3",
   "language": "python",
   "name": "python3"
  },
  "language_info": {
   "codemirror_mode": {
    "name": "ipython",
    "version": 3
   },
   "file_extension": ".py",
   "mimetype": "text/x-python",
   "name": "python",
   "nbconvert_exporter": "python",
   "pygments_lexer": "ipython3",
   "version": "3.8.3"
  }
 },
 "nbformat": 4,
 "nbformat_minor": 4
}
